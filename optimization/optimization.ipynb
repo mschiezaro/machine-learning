{
 "cells": [
  {
   "cell_type": "markdown",
   "metadata": {
    "collapsed": true,
    "deletable": true,
    "editable": true
   },
   "source": [
    "Funções comuns usadas na maioria dos exercícios"
   ]
  },
  {
   "cell_type": "code",
   "execution_count": 1,
   "metadata": {
    "collapsed": true,
    "deletable": true,
    "editable": true
   },
   "outputs": [],
   "source": [
    "import numpy as np\n",
    "import matplotlib.pyplot as plt\n",
    "import scipy.optimize as opt\n",
    "import tensorflow as tf"
   ]
  },
  {
   "cell_type": "code",
   "execution_count": 2,
   "metadata": {
    "collapsed": true,
    "deletable": true,
    "editable": true
   },
   "outputs": [],
   "source": [
    "# função y = ax^3 +bx^2 +cx +d onde os parâmetros a,b,c,d serão \n",
    "# otimizados\n",
    "#\n",
    "# x variável da função\n",
    "# W é o array de parâmetros a,b,c,d\n",
    "# a = W[0], b = W[1], c = W[2], d = W[3]\n",
    "def f(x, W):\n",
    "    a,b,c,d = W\n",
    "    return a * x**3 + b * x**2 + c * x + d "
   ]
  },
  {
   "cell_type": "code",
   "execution_count": 3,
   "metadata": {
    "collapsed": true,
    "deletable": true,
    "editable": true
   },
   "outputs": [],
   "source": [
    "# Função de erro que deverá ser minimizada ∑(y - f(x))^2 \n",
    "def square_error(W):\n",
    "    error = 0\n",
    "    for i in range(0, data_size):\n",
    "        # Calcula o somatório \n",
    "        error += (Y[i] - f(X[i], W))**2\n",
    "    return error"
   ]
  },
  {
   "cell_type": "code",
   "execution_count": 4,
   "metadata": {
    "collapsed": true,
    "deletable": true,
    "editable": true
   },
   "outputs": [],
   "source": [
    "# Calcula as derivadas da função de erro em relação a a,b,c,d e retorna\n",
    "# em array\n",
    "def calculate_derivative(W):\n",
    "    der_a, der_b, der_c, der_d = (0,0,0,0)\n",
    "    a,b,c,d = W\n",
    "    for i in range(0, data_size):\n",
    "        # Derivada parcial em a -  2(y - (ax^3 +bx^2 +cx +d))x^3\n",
    "        der_a += -2*(Y[i] - (a*X[i]**3 + b*X[i]**2 + c*X[i] + d))*X[i]**3\n",
    "        # Derivada parcial em b -  2(y - (ax^3 +bx^2 +cx +d))x^2                     \n",
    "        der_b += -2*(Y[i] - (a*X[i]**3 + b*X[i]**2 + c*X[i] + d))*X[i]**2\n",
    "        # Derivada parcial em c -  2(y - (ax^3 +bx^2 +cx +d))x \n",
    "        der_c += -2*(Y[i] - (a*X[i]**3 + b*X[i]**2 + c*X[i] + d))*X[i]\n",
    "        # Derivada parcial em d -  2(y - (ax^3 +bx^2 +cx +d))                                               \n",
    "        der_d += -2*(Y[i] - (a*X[i]**3 + b*X[i]**2 + c*X[i] + d))                   \n",
    "    return np.array([der_a, der_b, der_c, der_d])    "
   ]
  },
  {
   "cell_type": "code",
   "execution_count": 5,
   "metadata": {
    "collapsed": true,
    "deletable": true,
    "editable": true
   },
   "outputs": [],
   "source": [
    "# Calcula os valores de a,b,c,d da função  ax^3 +bx^2 +cx +d usando o \n",
    "# método do gradiente descendente\n",
    "# W é o array de parâmetros iniciais de a,b,c,d\n",
    "# a = W[0], b = W[1], c = W[2], d = W[3]\n",
    "def calculate_gradient_descendent(W, learning_rate, num_iterations):\n",
    "    a,b,c,d = W\n",
    "    for i in range(num_iterations):\n",
    "      der_a, der_b, der_c, der_d = calculate_derivative([a,b,c,d])\n",
    "      a = a - (learning_rate * der_a)\n",
    "      b = b - (learning_rate * der_b)\n",
    "      c = c - (learning_rate * der_c)\n",
    "      d = d - (learning_rate * der_d)\n",
    "    return [a,b,c,d]"
   ]
  },
  {
   "cell_type": "code",
   "execution_count": 6,
   "metadata": {
    "collapsed": false,
    "deletable": true,
    "editable": true
   },
   "outputs": [],
   "source": [
    "# Imprime no console os valores do resultado\n",
    "def print_result(W, error, iterations, learning_rate):\n",
    "    a,b,c,d = W\n",
    "    # Imprime na tela os valores de a, b, c, d\n",
    "    print(\"Para a função ax^3 +bx^2 +cx +d os valores encontrados foram:\")\n",
    "    print(\"a = {0}\".format(a))    \n",
    "    print(\"b = {0}\".format(b))    \n",
    "    print(\"c = {0}\".format(c))    \n",
    "    print(\"d = {0}\".format(d))    \n",
    "    print(\"\")\n",
    "    # Imprime na tela o valor do erro calculado\n",
    "    if learning_rate == 0:\n",
    "        print(\"O Erro foi de {0} para {1} iterações\"\n",
    "              .format(error, iterations))\n",
    "    else:\n",
    "        print(\"O Erro foi de {0} para {1} iterações, learning rate = {2}\"\n",
    "              .format(error, iterations, learning_rate))    "
   ]
  },
  {
   "cell_type": "code",
   "execution_count": 7,
   "metadata": {
    "collapsed": true,
    "deletable": true,
    "editable": true
   },
   "outputs": [],
   "source": [
    "# Cria o gráfico Imprime o calculado e o real\n",
    "def plot_result(X, Y, Y_estimated):\n",
    "    # Imprime valores reais em azul\n",
    "    plt.plot(X, Y, 'bx', label=\"Valores reais\")\n",
    "    # Imprime valores estimados em verde\n",
    "    plt.plot(X, Y_estimated, label=\"Valores estimados\", color='g')\n",
    "    plt.legend(bbox_to_anchor=(0., 1.02, 1., .102), loc=3, \n",
    "               ncol=2, mode=\"expand\", borderaxespad=0.)\n",
    "    plt.show()"
   ]
  },
  {
   "cell_type": "markdown",
   "metadata": {
    "deletable": true,
    "editable": true
   },
   "source": [
    "Dados passados pelo exercício"
   ]
  },
  {
   "cell_type": "code",
   "execution_count": 8,
   "metadata": {
    "collapsed": false,
    "deletable": true,
    "editable": true,
    "scrolled": false
   },
   "outputs": [],
   "source": [
    "# Dados da variável x da função y = ax^3 +bx^2 +cx +d\n",
    "X = np.array([-5, -4, -3, -2, -1, 0, 1, 2, 3, 4, 5])\n",
    "# Valor de y (target) da função y = ax^3 +bx^2 +cx +d\n",
    "Y= np.array([-53.9, -28.5, -20.7, -3.6, -9.8, 5.0, 4.2, 5.1, \n",
    "             11.4, 27.4, 44.0])\n",
    "# Tamanho do Dataset\n",
    "data_size = len(X)"
   ]
  },
  {
   "cell_type": "markdown",
   "metadata": {
    "deletable": true,
    "editable": true
   },
   "source": [
    "1 - Implemente uma decida do gradiente (escreva explicitamente o código para a \n",
    "função que computa o gradiente). Use um learning rate the 1.0e-5, inicie    do \n",
    "ponto a=0, b=0, c=0, d=0 e rode 50 iterações. Qual a  solução   encontrada (os \n",
    "valores de a, b, c, d) ? Qual o erro na solução ? Plote a função com os valores \n",
    "solução em conjunto com os dados. "
   ]
  },
  {
   "cell_type": "markdown",
   "metadata": {},
   "source": [
    "**Reposta: Segue a execução abaixo com os resultados**"
   ]
  },
  {
   "cell_type": "code",
   "execution_count": 9,
   "metadata": {
    "collapsed": false,
    "deletable": true,
    "editable": true
   },
   "outputs": [
    {
     "name": "stdout",
     "output_type": "stream",
     "text": [
      "Para a função ax^3 +bx^2 +cx +d os valores encontrados foram:\n",
      "a = 0.40582177917151363\n",
      "b = -0.15346867249318638\n",
      "c = 0.05946159028323151\n",
      "d = -0.00842238093945387\n",
      "\n",
      "O Erro foi de 224.10780405140483 para 50 iterações, learning rate = 1e-05\n"
     ]
    },
    {
     "data": {
      "image/png": "[encoded data removed]",
      "text/plain": [
       "<matplotlib.figure.Figure at 0x7f41529873c8>"
      ]
     },
     "metadata": {},
     "output_type": "display_data"
    }
   ],
   "source": [
    "#Exercício 1\n",
    "learning_rate = 1e-5\n",
    "# Número de iterações que será executado para realizar a otimização\n",
    "num_it = 50\n",
    "# Valores inciais de a,b,c  a = W[0], b = W[1], c = W[2], d = W[3] \n",
    "# da função y = ax^3 +bx^2 +cx +d\n",
    "W = np.array([0,0,0,0])\n",
    "# Executa o o método do gradiente descendente para encontrar os valores \n",
    "# de a,b,c,d da função  y = ax^3 +bx^2 +cx +d\n",
    "# com 50 iterações tentando minizar o erro quadrático ∑(y - f(x))^2 \n",
    "W_estimated = calculate_gradient_descendent(W, learning_rate, num_it)\n",
    "# Com os dados de a,b,c,d encontrados calcular qual erro foi obtido\n",
    "error = square_error(W_estimated)\n",
    "# Calula os valores estimados usando os parâmetros encontrados\n",
    "Y_estimated = np.empty([data_size])\n",
    "# Preenche o vetor de valores estimados usando a função otimizada\n",
    "for i in range(data_size):\n",
    "    Y_estimated[i] = f(X[i], W_estimated)\n",
    "#Imprime os resultados\n",
    "print_result(W_estimated, error, num_it, learning_rate)\n",
    "# Gera os gráficos\n",
    "plot_result(X, Y, Y_estimated)"
   ]
  },
  {
   "cell_type": "markdown",
   "metadata": {
    "deletable": true,
    "editable": true
   },
   "source": [
    "2 - Use a decida do gradiente com learning rate de 1.e-4 (para convergir mais \n",
    "rápido). O que aconteceu ? "
   ]
  },
  {
   "cell_type": "markdown",
   "metadata": {
    "deletable": true,
    "editable": true
   },
   "source": [
    "**Resposta: O Learning Rate foi aumentado com a intenção de convergir mais rápido, \n",
    "mas não teve o efeito desejado porque os passos da descida do gradiente ficaram \n",
    "muito grandes e com isso o algoritmo  passou direto  pelos pontos  de  mínimo não os  \n",
    "considerou como possíveis respostas do problema, com isso os valores  foram  ficando \n",
    "cada vez maiores e a solução não convergiu. \n",
    "A execução  com os resultados utilizando o learning rate 1e-04 estão logo a seguir**"
   ]
  },
  {
   "cell_type": "code",
   "execution_count": 10,
   "metadata": {
    "collapsed": false,
    "deletable": true,
    "editable": true
   },
   "outputs": [
    {
     "name": "stdout",
     "output_type": "stream",
     "text": [
      "Para a função ax^3 +bx^2 +cx +d os valores encontrados foram:\n",
      "a = -3.5591826251687275e+42\n",
      "b = 8.031136005382704e+24\n",
      "c = -1.6991682510330626e+41\n",
      "d = -2.7854969837471046e+23\n",
      "\n",
      "O Erro foi de 5.221304884357691e+89 para 50 iterações, learning rate = 0.0001\n"
     ]
    },
    {
     "data": {
      "image/png": "[encoded data removed]",
      "text/plain": [
       "<matplotlib.figure.Figure at 0x7f41508bfac8>"
      ]
     },
     "metadata": {},
     "output_type": "display_data"
    }
   ],
   "source": [
    "# Exercício 2\n",
    "learning_rate = 1e-4\n",
    "# Executa o o método do gradiente descendente para encontrar os valores \n",
    "# de a,b,c,d da função  y = ax^3 +bx^2 +cx +d\n",
    "# com 50 iterações tentando minizar o erro quadrático ∑(y - f(x))^2 \n",
    "W_estimated = calculate_gradient_descendent(W, learning_rate, num_it)\n",
    "# Com os dados de a,b,c,d encontrados calcular qual erro foi obtido\n",
    "error = square_error(W_estimated)\n",
    "# Preenche o vetor de valores estimados usando a função otimizada\n",
    "for i in range(data_size):\n",
    "    Y_estimated[i] = f(X[i], W_estimated)\n",
    "#Imprime os resultados\n",
    "print_result(W_estimated, error, num_it, learning_rate)\n",
    "# Gera os gráficos\n",
    "plot_result(X, Y, Y_estimated)"
   ]
  },
  {
   "cell_type": "markdown",
   "metadata": {
    "deletable": true,
    "editable": true
   },
   "source": [
    "3 - Use o método de BFGS do scipy.optimize.minimize. Use o  BFGS sem  jacobiano \n",
    "(o método vai computar o Jacobiano usando diferenças finitas). De novo, imprima \n",
    "a  solução, o erro  e  plote  a função encontrada e os dados originais. Quantas \n",
    "interações foram precisas? "
   ]
  },
  {
   "cell_type": "markdown",
   "metadata": {
    "collapsed": true,
    "deletable": true,
    "editable": true
   },
   "source": [
    "**Resposta: 7 Iterações**"
   ]
  },
  {
   "cell_type": "code",
   "execution_count": 11,
   "metadata": {
    "collapsed": false,
    "deletable": true,
    "editable": true
   },
   "outputs": [
    {
     "name": "stdout",
     "output_type": "stream",
     "text": [
      "Optimization terminated successfully.\n",
      "         Current function value: 127.565070\n",
      "         Iterations: 7\n",
      "         Function evaluations: 66\n",
      "         Gradient evaluations: 11\n",
      "Para a função ax^3 +bx^2 +cx +d os valores encontrados foram:\n",
      "a = 0.29123927043411524\n",
      "b = -0.17995338914154707\n",
      "c = 2.459577338482138\n",
      "d = 0.03589747003728112\n",
      "\n",
      "O Erro foi de 127.56506993008303 para 7 iterações\n"
     ]
    },
    {
     "data": {
      "image/png": "[encoded data removed]",
      "text/plain": [
       "<matplotlib.figure.Figure at 0x7f415082cb70>"
      ]
     },
     "metadata": {},
     "output_type": "display_data"
    }
   ],
   "source": [
    "# Exercício 3\n",
    "# Executa a otimização usando o BFGS\n",
    "result = opt.minimize(square_error, W, method='BFGS', options={'disp': True})\n",
    "# Preenche o vetor de valores estimados usando a função otimizada\n",
    "for i in range(data_size):\n",
    "    Y_estimated[i] = f(X[i], result.x)\n",
    "# Imprime os resultados\n",
    "print_result(result.x, result.fun, result.nit, 0)\n",
    "# Gera os gráficos\n",
    "plot_result(X, Y, Y_estimated)\n"
   ]
  },
  {
   "cell_type": "markdown",
   "metadata": {
    "deletable": true,
    "editable": true
   },
   "source": [
    "4 - Use o método de BFGS  do  scipy.optimize.minimize.  Use  o  Jacobiano \n",
    "(gradiente da solução anterior. Houve diferença entre a solução anterior? \n",
    "Mesmo número de chamadas para a função? "
   ]
  },
  {
   "cell_type": "markdown",
   "metadata": {
    "collapsed": true,
    "deletable": true,
    "editable": true
   },
   "source": [
    "**Resposta: Tivemos menos número de chamadas de função (66 contra 11)**"
   ]
  },
  {
   "cell_type": "code",
   "execution_count": 12,
   "metadata": {
    "collapsed": false,
    "deletable": true,
    "editable": true
   },
   "outputs": [
    {
     "name": "stdout",
     "output_type": "stream",
     "text": [
      "Optimization terminated successfully.\n",
      "         Current function value: 127.565070\n",
      "         Iterations: 7\n",
      "         Function evaluations: 11\n",
      "         Gradient evaluations: 11\n",
      "Para a função ax^3 +bx^2 +cx +d os valores encontrados foram:\n",
      "a = 0.29123931623931626\n",
      "b = -0.17995337995338004\n",
      "c = 2.4595765345765344\n",
      "d = 0.035897435897436075\n",
      "\n",
      "O Erro foi de 127.56506993006991 para 7 iterações\n"
     ]
    },
    {
     "data": {
      "image/png": "[encoded data removed]",
      "text/plain": [
       "<matplotlib.figure.Figure at 0x7f4150883ac8>"
      ]
     },
     "metadata": {},
     "output_type": "display_data"
    }
   ],
   "source": [
    "# Exercício 4\n",
    "# Executa a otimização utilizando o método BFGS usando o jacobiano\n",
    "result = opt.minimize(square_error, W, method='BFGS', \n",
    "                      jac=calculate_derivative, options={'disp': True})\n",
    "# Preenche o vetor de valores estimados usando a função otimizada\n",
    "for i in range(data_size):\n",
    "    Y_estimated[i] = f(X[i], result.x)\n",
    "# Imprime os resultados\n",
    "print_result(result.x, result.fun, result.nit, 0)\n",
    "# Gera os gráficos\n",
    "plot_result(X, Y, Y_estimated)"
   ]
  },
  {
   "cell_type": "markdown",
   "metadata": {
    "deletable": true,
    "editable": true
   },
   "source": [
    "5 - Use o método Nelder Mead do  scipy.optimize.minimize.  Imprima e \n",
    "plote. Quantas interações?"
   ]
  },
  {
   "cell_type": "markdown",
   "metadata": {
    "collapsed": true,
    "deletable": true,
    "editable": true
   },
   "source": [
    "**Resposta: O erro continuou o mesmo, mas foi necessárias 360 iterações, \n",
    "enquanto o BFGS fez 7 iterações**"
   ]
  },
  {
   "cell_type": "code",
   "execution_count": 13,
   "metadata": {
    "collapsed": false,
    "deletable": true,
    "editable": true
   },
   "outputs": [
    {
     "name": "stdout",
     "output_type": "stream",
     "text": [
      "Optimization terminated successfully.\n",
      "         Current function value: 127.565070\n",
      "         Iterations: 360\n",
      "         Function evaluations: 602\n",
      "Para a função ax^3 +bx^2 +cx +d os valores encontrados foram:\n",
      "a = 0.2912411175800449\n",
      "b = -0.17995509154742637\n",
      "c = 2.459549512398575\n",
      "d = 0.03587783917706201\n",
      "\n",
      "O Erro foi de 127.5650699702508 para 360 iterações\n"
     ]
    },
    {
     "data": {
      "image/png": "[encoded data removed]",
      "text/plain": [
       "<matplotlib.figure.Figure at 0x7f4150738c88>"
      ]
     },
     "metadata": {},
     "output_type": "display_data"
    }
   ],
   "source": [
    "# Exercício 5\n",
    "# Executa a otimização utilizando o método Melder-mead\n",
    "result = opt.minimize(square_error, W, method='nelder-mead', options={'disp': True})\n",
    "for i in range(data_size):\n",
    "    Y_estimated[i] = f(X[i], result.x)\n",
    "# Imprime os resultados\n",
    "print_result(result.x, result.fun, result.nit, 0)\n",
    "# Gera os gráficos\n",
    "plot_result(X, Y, Y_estimated)"
   ]
  },
  {
   "cell_type": "markdown",
   "metadata": {
    "deletable": true,
    "editable": true
   },
   "source": [
    "6 - Implemente  uma  solução usando decida do gradiente usando o Tensorflow.\n",
    "Use o otimizador AdamOptimizer com learning rate de 0.01. Rode 200 iterações. \n",
    "Plote a  solução. Voce pode tanto  usar  uma  otimização SGD (atualização dos \n",
    "pesos  um  dado  por  vez  como é mais comum em redes neurais) ou uma solução \n",
    "batch (atualização acontece após processar todos  os dados). Mas voce precisa \n",
    "dizer na resposta qual das duas voce implementou"
   ]
  },
  {
   "cell_type": "markdown",
   "metadata": {},
   "source": [
    "**Resposta: A implementação abaixo utilizou uma solução em batch**"
   ]
  },
  {
   "cell_type": "code",
   "execution_count": 14,
   "metadata": {
    "collapsed": false,
    "deletable": true,
    "editable": true
   },
   "outputs": [
    {
     "name": "stdout",
     "output_type": "stream",
     "text": [
      "Para a função ax^3 +bx^2 +cx +d os valores encontrados foram:\n",
      "a = 0.3824672996997833\n",
      "b = -0.1781785786151886\n",
      "c = 0.561823844909668\n",
      "d = 0.005529285874217749\n",
      "\n",
      "O Erro foi de 187.23487854003906 para 200 iterações, learning rate = 0.01\n"
     ]
    },
    {
     "data": {
      "image/png": "[encoded data removed]",
      "text/plain": [
       "<matplotlib.figure.Figure at 0x7f41505fda90>"
      ]
     },
     "metadata": {},
     "output_type": "display_data"
    }
   ],
   "source": [
    "a = tf.Variable(0.0, tf.float32)\n",
    "b = tf.Variable(0.0, tf.float32)\n",
    "c = tf.Variable(0.0, tf.float32)\n",
    "d = tf.Variable(0.0, tf.float32)\n",
    "\n",
    "x = tf.placeholder(tf.float32, name='x')\n",
    "y = tf.placeholder(tf.float32, name='y')\n",
    "\n",
    "# função y = ax^3 +bx^2 +cx +d\n",
    "f = a * x **3 + b * x**2 + c * x + d\n",
    "# Erro quadrático  ∑(y - f(x))^2 \n",
    "square = tf.reduce_sum(tf.square(y - f))\n",
    "# Construindo meu modelo\n",
    "learning_rate = 0.01\n",
    "train = tf.train.AdamOptimizer(learning_rate).minimize(square)\n",
    "\n",
    "# Incializando as variaveis  e sessoes\n",
    "initialize = tf.global_variables_initializer()\n",
    "session = tf.Session()\n",
    "session.run(initialize)\n",
    "\n",
    "# Numero de iteraçoes\n",
    "num_iterations = 200\n",
    "\n",
    "# Treina modelo\n",
    "for i in range(num_iterations):\n",
    "   session.run(train, feed_dict={x:X, y: Y})\n",
    "\n",
    "# Calcula\n",
    "a_res, b_res, c_res, d_res, error = session.run([a,b,c,d, square], \n",
    "                                                feed_dict={x:X, y: Y})\n",
    "\n",
    "# Valores estimados de a,b,c,d em um array\n",
    "W_estimated = [a_res, b_res, c_res, d_res]\n",
    "# Valores estimados usando a função otimizada\n",
    "Y_estimated = np.empty([data_size])\n",
    "\n",
    "# Preenche o vetor de valores estimados usando a função otimizada\n",
    "for i in range(data_size):\n",
    "    Y_estimated[i] = a_res*X[i]**3 + b_res*X[i]**2 + c_res*X[i] + d_res\n",
    "    \n",
    "#Imprime os resultados\n",
    "print_result(W_estimated, error, num_iterations, learning_rate)    \n",
    "# Gera os gráficos\n",
    "plot_result(X, Y, Y_estimated)\n",
    "\n",
    "\n"
   ]
  }
 ],
 "metadata": {
  "kernelspec": {
   "display_name": "Python 3",
   "language": "python",
   "name": "python3"
  },
  "language_info": {
   "codemirror_mode": {
    "name": "ipython",
    "version": 3
   },
   "file_extension": ".py",
   "mimetype": "text/x-python",
   "name": "python",
   "nbconvert_exporter": "python",
   "pygments_lexer": "ipython3",
   "version": "3.6.0"
  }
 },
 "nbformat": 4,
 "nbformat_minor": 2
}
